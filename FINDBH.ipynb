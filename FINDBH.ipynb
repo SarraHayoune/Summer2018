{
 "cells": [
  {
   "cell_type": "code",
   "execution_count": null,
   "metadata": {
    "collapsed": true
   },
   "outputs": [],
   "source": [
    "Assignement: find black hole"
   ]
  },
  {
   "cell_type": "code",
   "execution_count": 3,
   "metadata": {},
   "outputs": [
    {
     "ename": "IOError",
     "evalue": "File '/mnt/cptmarvel/cptmarvel.cosmo25cmb.4096g5HbwK1BH.004096': format not understood or does not exist",
     "output_type": "error",
     "traceback": [
      "\u001b[0;31m---------------------------------------------------------------------------\u001b[0m",
      "\u001b[0;31mIOError\u001b[0m                                   Traceback (most recent call last)",
      "\u001b[0;32m<ipython-input-3-ef8bb22a9646>\u001b[0m in \u001b[0;36m<module>\u001b[0;34m()\u001b[0m\n\u001b[1;32m      4\u001b[0m \u001b[0;31m#im loading the snapshot\u001b[0m\u001b[0;34m\u001b[0m\u001b[0;34m\u001b[0m\u001b[0m\n\u001b[1;32m      5\u001b[0m \u001b[0;34m\u001b[0m\u001b[0m\n\u001b[0;32m----> 6\u001b[0;31m \u001b[0ms\u001b[0m \u001b[0;34m=\u001b[0m \u001b[0mpynbody\u001b[0m\u001b[0;34m.\u001b[0m\u001b[0mload\u001b[0m\u001b[0;34m(\u001b[0m\u001b[0;34m'/mnt/cptmarvel/cptmarvel.cosmo25cmb.4096g5HbwK1BH.004096'\u001b[0m\u001b[0;34m)\u001b[0m\u001b[0;34m\u001b[0m\u001b[0m\n\u001b[0m\u001b[1;32m      7\u001b[0m \u001b[0;34m\u001b[0m\u001b[0m\n\u001b[1;32m      8\u001b[0m \u001b[0;31m#save it by ctrl-x-s 'to save work'\u001b[0m\u001b[0;34m\u001b[0m\u001b[0;34m\u001b[0m\u001b[0m\n",
      "\u001b[0;32m/Applications/anaconda2/lib/python2.7/site-packages/pynbody/snapshot/__init__.pyc\u001b[0m in \u001b[0;36mload\u001b[0;34m(filename, *args, **kwargs)\u001b[0m\n\u001b[1;32m   1953\u001b[0m \u001b[0;34m\u001b[0m\u001b[0m\n\u001b[1;32m   1954\u001b[0m     raise IOError(\n\u001b[0;32m-> 1955\u001b[0;31m         \"File %r: format not understood or does not exist\" % filename)\n\u001b[0m\u001b[1;32m   1956\u001b[0m \u001b[0;34m\u001b[0m\u001b[0m\n\u001b[1;32m   1957\u001b[0m \u001b[0;32mdef\u001b[0m \u001b[0mnew\u001b[0m\u001b[0;34m(\u001b[0m\u001b[0mn_particles\u001b[0m\u001b[0;34m=\u001b[0m\u001b[0;36m0\u001b[0m\u001b[0;34m,\u001b[0m \u001b[0morder\u001b[0m\u001b[0;34m=\u001b[0m\u001b[0mNone\u001b[0m\u001b[0;34m,\u001b[0m \u001b[0;34m**\u001b[0m\u001b[0mfamilies\u001b[0m\u001b[0;34m)\u001b[0m\u001b[0;34m:\u001b[0m\u001b[0;34m\u001b[0m\u001b[0m\n",
      "\u001b[0;31mIOError\u001b[0m: File '/mnt/cptmarvel/cptmarvel.cosmo25cmb.4096g5HbwK1BH.004096': format not understood or does not exist"
     ]
    }
   ],
   "source": [
    "import pynbody\n",
    "import matplotlib.pylab as plt\n",
    "\n",
    "#im loading the snapshot                                                                   \n",
    "\n",
    "s = pynbody.load('/mnt/cptmarvel/cptmarvel.cosmo25cmb.4096g5HbwK1BH.004096')\n",
    "\n",
    "#save it by ctrl-x-s 'to save work'                                                        \n",
    "\n",
    "\n",
    "# gonna start loading the halo'galaxies' now                                               \n",
    "\n",
    "h = s.halos()\n",
    "\n",
    "#halos we need to only look at # 5                                                         \n",
    "\n",
    "\n",
    "pynbody.analysis.angmom.faceon(h[5])\n",
    "\n",
    "#^^ its centering on the halo that i have picked which is 3 at the moment                  \n",
    "#and giving it a shape of a disk almost like a dinner plate                                \n",
    "\n",
    "s.physical_units()\n",
    "#^^ making all the data into a certain amount by mul everything for me\n",
    "\n",
    "p = pynbody.analysis.profile.Profile(h[5].s,min=.01,max=50)\n",
    "#^^ starts everything from the center reaching outwards almost like axis \n",
    "\n",
    "# find the BH in the snapshot\n",
    "def findBH (snap):\n",
    "    BHfilter = pynbody.filt.LowPass('tform',0.0)\n",
    "    BH = snap.stars[BHfilter]\n",
    "    return BH\n",
    "def getz(snap):\n",
    "    return snap.properties['z']\n",
    "\n",
    "\n"
   ]
  },
  {
   "cell_type": "code",
   "execution_count": null,
   "metadata": {
    "collapsed": true
   },
   "outputs": [],
   "source": []
  }
 ],
 "metadata": {
  "kernelspec": {
   "display_name": "Python 2",
   "language": "python",
   "name": "python2"
  },
  "language_info": {
   "codemirror_mode": {
    "name": "ipython",
    "version": 2
   },
   "file_extension": ".py",
   "mimetype": "text/x-python",
   "name": "python",
   "nbconvert_exporter": "python",
   "pygments_lexer": "ipython2",
   "version": "2.7.14"
  }
 },
 "nbformat": 4,
 "nbformat_minor": 2
}
