{
 "cells": [
  {
   "cell_type": "markdown",
   "metadata": {},
   "source": [
    "Assignement2\" FIND ALL THE BLACK HOLES \""
   ]
  },
  {
   "cell_type": "code",
   "execution_count": null,
   "metadata": {
    "collapsed": true
   },
   "outputs": [],
   "source": [
    "import pynbody \n",
    "import matplotlib.pylab as plt\n",
    "plt.switch_backend(\"agg\") \n",
    "\n",
    "   # loading the snapshot\n",
    "s =pynbody.load('/mnt/cptmarvel/cptmarvel.cosmo25cmb.4096g5HbwK1BH.004096/cptmarvel.cosmo25cmb.4096g5HbwK1BH.004096')\n",
    "\n",
    "   # convert the units \n",
    "s.physical_units()\n",
    "\n",
    "  # the halo that I need is h[5]\n",
    "h = s.halos()\n",
    "\n",
    "def findBH(s):\n",
    "    BHfilter = pynbody.filt.LowPass('tform',0.0)\n",
    "    BH = s.stars[BHfilter]\n",
    "    return BH[0,1,2]\n",
    "BH = findBH(s)\n"
   ]
  }
 ],
 "metadata": {
  "kernelspec": {
   "display_name": "Python 2",
   "language": "python",
   "name": "python2"
  },
  "language_info": {
   "codemirror_mode": {
    "name": "ipython",
    "version": 2
   },
   "file_extension": ".py",
   "mimetype": "text/x-python",
   "name": "python",
   "nbconvert_exporter": "python",
   "pygments_lexer": "ipython2",
   "version": "2.7.14"
  }
 },
 "nbformat": 4,
 "nbformat_minor": 2
}
